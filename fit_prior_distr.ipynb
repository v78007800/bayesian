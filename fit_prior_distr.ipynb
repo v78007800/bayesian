{
 "cells": [
  {
   "cell_type": "markdown",
   "metadata": {},
   "source": [
    "Для априорного распределения обычно используют бета распределение (для конверсий), так как оно изменяется от 0 до 1.\n",
    "Если данныз для апостер распределения много, то априорное будет не сильно влиять. Beta(1,1) не оказывает вообще влияния."
   ]
  },
  {
   "cell_type": "markdown",
   "metadata": {},
   "source": [
    "Подобрать бета распределение по данным:"
   ]
  },
  {
   "cell_type": "code",
   "execution_count": 62,
   "metadata": {},
   "outputs": [
    {
     "name": "stdout",
     "output_type": "stream",
     "text": [
      "(0.9951772542101911, 0.9955150775478354, -1.309896600518715e-08, 0.9999991845485967)\n"
     ]
    },
    {
     "data": {
      "text/plain": [
       "[<matplotlib.lines.Line2D at 0x2bcb3045dd8>]"
      ]
     },
     "execution_count": 62,
     "metadata": {},
     "output_type": "execute_result"
    },
    {
     "data": {
      "image/png": "[encoded data removed]",
      "text/plain": [
       "<Figure size 432x288 with 1 Axes>"
      ]
     },
     "metadata": {
      "needs_background": "light"
     },
     "output_type": "display_data"
    }
   ],
   "source": [
    "#генерируем данные из бета распределения beta(1,1):\n",
    "test=beta.rvs(1, 1, loc=0, scale=1, size=100000, random_state=None)\n",
    "\n",
    "#вычисляем параметры бета распределения:\n",
    "from scipy.stats import beta\n",
    "x=test\n",
    "beta_params=beta.fit(x,loc=0, scale=1)\n",
    "print(beta_params)\n",
    "\n",
    "#визуализируем полученное распределение\n",
    "%matplotlib inline\n",
    "from scipy.stats import beta\n",
    "import matplotlib.pyplot as plt\n",
    "import numpy as np\n",
    "a = beta_params[0]\n",
    "b = beta_params[1]\n",
    "x = np.arange (0.01, 1, 0.001)\n",
    "y = beta.pdf(x,a,b)\n",
    "plt.plot(x,y)"
   ]
  },
  {
   "cell_type": "code",
   "execution_count": null,
   "metadata": {},
   "outputs": [],
   "source": []
  }
 ],
 "metadata": {
  "kernelspec": {
   "display_name": "Python 3",
   "language": "python",
   "name": "python3"
  },
  "language_info": {
   "codemirror_mode": {
    "name": "ipython",
    "version": 3
   },
   "file_extension": ".py",
   "mimetype": "text/x-python",
   "name": "python",
   "nbconvert_exporter": "python",
   "pygments_lexer": "ipython3",
   "version": "3.7.3"
  }
 },
 "nbformat": 4,
 "nbformat_minor": 2
}
