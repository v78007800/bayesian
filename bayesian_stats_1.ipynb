{
 "cells": [
  {
   "cell_type": "code",
   "execution_count": 23,
   "metadata": {},
   "outputs": [],
   "source": []
  },
  {
   "cell_type": "markdown",
   "metadata": {},
   "source": [
    "### смоделируем значение конверсии для 1500 показов, если знаем что реальная конверсия равна 0.05"
   ]
  },
  {
   "cell_type": "code",
   "execution_count": 1,
   "metadata": {},
   "outputs": [
    {
     "name": "stderr",
     "output_type": "stream",
     "text": [
      "WARNING (theano.configdefaults): g++ not available, if using conda: `conda install m2w64-toolchain`\n",
      "C:\\ProgramData\\Anaconda\\lib\\site-packages\\theano\\configdefaults.py:560: UserWarning: DeprecationWarning: there is no c++ compiler.This is deprecated and with Theano 0.11 a c++ compiler will be mandatory\n",
      "  warnings.warn(\"DeprecationWarning: there is no c++ compiler.\"\n",
      "WARNING (theano.configdefaults): g++ not detected ! Theano will be unable to execute optimized C-implementations (for both CPU and GPU) and will default to Python implementations. Performance will be severely degraded. To remove this warning, set Theano flags cxx to an empty string.\n",
      "WARNING (theano.tensor.blas): Using NumPy C-API based implementation for BLAS functions.\n",
      "C:\\ProgramData\\Anaconda\\lib\\site-packages\\dask\\config.py:168: YAMLLoadWarning: calling yaml.load() without Loader=... is deprecated, as the default Loader is unsafe. Please read https://msg.pyyaml.org/load for full details.\n",
      "  data = yaml.load(f.read()) or {}\n",
      "C:\\ProgramData\\Anaconda\\lib\\site-packages\\distributed\\config.py:20: YAMLLoadWarning: calling yaml.load() without Loader=... is deprecated, as the default Loader is unsafe. Please read https://msg.pyyaml.org/load for full details.\n",
      "  defaults = yaml.load(f)\n"
     ]
    },
    {
     "name": "stdout",
     "output_type": "stream",
     "text": [
      "63\n",
      "Чему равна наблюдаемая частота в группе A? 0.042\n",
      "Таким образом расчитанная конверсия всегда отличается от реальной\n"
     ]
    }
   ],
   "source": [
    "%matplotlib inline\n",
    "import matplotlib.pyplot as plt\n",
    "import pymc3 as pm\n",
    "import scipy.stats as stats\n",
    "import numpy as np\n",
    "#binomial = stats.binom\n",
    "#Параметры представляют собой границы равномерного распределения\n",
    "model=pm.Model()\n",
    "with model:\n",
    "    p = pm.Uniform('p',0,1)\n",
    "    p_true = 0.05 # Помните, что на практике это значение неизвестно\n",
    "    N = 1500\n",
    "    #Выбираем N бернуллиевых случайных переменных из распределения ber(0,05)\n",
    "    #Вероятность быть равной 1 для каждой из них составляет 0,05\n",
    "    #Генерация данных:\n",
    "    occurrences = stats.bernoulli.rvs(p_true, size=N)\n",
    "    print (np.sum(occurrences)) #сколько было кликов\n",
    "    print ('Чему равна наблюдаемая частота в группе A? %.3f' % occurrences.mean())\n",
    "    print('Таким образом расчитанная конверсия всегда отличается от реальной')"
   ]
  },
  {
   "cell_type": "code",
   "execution_count": 27,
   "metadata": {},
   "outputs": [
    {
     "name": "stderr",
     "output_type": "stream",
     "text": [
      "Multiprocess sampling (2 chains in 2 jobs)\n",
      "Metropolis: [p]\n",
      "Sampling 2 chains, 0 divergences: 100%|█| 25000/25000 [07:01<00:00, 59.37draws/s]\n",
      "The number of effective samples is smaller than 25% for some parameters.\n"
     ]
    }
   ],
   "source": [
    "#Объединяем наблюдаемые данные в переменную РуМС с аргументом observed = True и запускаем алгоритм вывода:\n",
    "with model:\n",
    "    #obs = pm.Bernoulli(\"obs\", p, observed=occurrences)\n",
    "    # To be explained in chapter 3\n",
    "    step = pm.Metropolis()\n",
    "    trace = pm.sample(12000, step=step) #18000 в оригинале\n",
    "    #burned_trace = trace[1000:]\n",
    "    burned_trace=trace"
   ]
  },
  {
   "cell_type": "code",
   "execution_count": 28,
   "metadata": {},
   "outputs": [
    {
     "name": "stderr",
     "output_type": "stream",
     "text": [
      "C:\\ProgramData\\Anaconda\\lib\\site-packages\\matplotlib\\axes\\_axes.py:6521: MatplotlibDeprecationWarning: \n",
      "The 'normed' kwarg was deprecated in Matplotlib 2.1 and will be removed in 3.1. Use 'density' instead.\n",
      "  alternative=\"'density'\", removal=\"3.1\")\n"
     ]
    },
    {
     "data": {
      "text/plain": [
       "Text(0, 0.5, 'Плотность')"
      ]
     },
     "execution_count": 28,
     "metadata": {},
     "output_type": "execute_result"
    },
    {
     "data": {
      "image/png": "[encoded data removed]",
      "text/plain": [
       "<Figure size 432x288 with 1 Axes>"
      ]
     },
     "metadata": {
      "needs_background": "light"
     },
     "output_type": "display_data"
    }
   ],
   "source": [
    "plt.title(\"Апостер распределение $p_A$, факт эффективность сайта A\")\n",
    "plt.vlines(p_true, 0, 90, linestyle=\"--\", label=\"Фактич $p_A$ (неизвестна)\")\n",
    "plt.hist(burned_trace[\"p\"], bins=25, histtype=\"stepfilled\", normed=True)\n",
    "plt.legend()\n",
    "plt.xlabel(\"Значение $р_А$\")\n",
    "plt.ylabel('Плотность')"
   ]
  },
  {
   "cell_type": "markdown",
   "metadata": {},
   "source": [
    "##### при сравнении двух вариантов, считаем отдельно распр для А и для В, затем считаем распределение дельты (А-В). Считаем количество дельт>0 и делим на общее число дельт. Получаем вероятность того, что А более эффективно"
   ]
  }
 ],
 "metadata": {
  "kernelspec": {
   "display_name": "Python 3",
   "language": "python",
   "name": "python3"
  },
  "language_info": {
   "codemirror_mode": {
    "name": "ipython",
    "version": 3
   },
   "file_extension": ".py",
   "mimetype": "text/x-python",
   "name": "python",
   "nbconvert_exporter": "python",
   "pygments_lexer": "ipython3",
   "version": "3.7.3"
  }
 },
 "nbformat": 4,
 "nbformat_minor": 2
}
