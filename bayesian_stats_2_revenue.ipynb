{
 "cells": [
  {
   "cell_type": "markdown",
   "metadata": {},
   "source": [
    "При моделировании вероятности в качестве априорного распределения в нашем случае хорошо подойдет бета-распределение. (Почему? Потому что оно ограничено значениями от 0 до 1, что совпадает с диапазоном значений, допустимым для вероятностей.)"
   ]
  },
  {
   "attachments": {},
   "cell_type": "markdown",
   "metadata": {},
   "source": [
    "Пусть априорное распределение имеет вид Beta(1, 1). Оно идентично равномерному распределению на отрезке [0, 1]."
   ]
  },
  {
   "cell_type": "code",
   "execution_count": 5,
   "metadata": {},
   "outputs": [],
   "source": [
    "from scipy.stats import beta \n",
    "\n",
    "visitors_to_A = 1300 \n",
    "visitors_to_B = 1275\n",
    "\n",
    "conversions_from_A = 120 \n",
    "conversions_from_B = 125\n",
    "\n",
    "alpha_prior = 1 \n",
    "beta_prior = 1\n",
    "\n",
    "posterior_A = beta(alpha_prior + conversions_from_A, beta_prior + visitors_to_A - conversions_from_A)\n",
    "posterior_B = beta(alpha_prior + conversions_from_B, beta_prior + visitors_to_B - conversions_from_B)"
   ]
  },
  {
   "cell_type": "markdown",
   "metadata": {},
   "source": [
    "Далее нам нужно определить, в какой группе вероятность конверсии выше. Для этого аналогично МСМС мы возьмем выборки из апостериорного распределения и оценим вероятность того, что выборки из апостериорного распределения А больше выборок из распределения В"
   ]
  },
  {
   "cell_type": "code",
   "execution_count": 6,
   "metadata": {},
   "outputs": [
    {
     "name": "stdout",
     "output_type": "stream",
     "text": [
      "0.30605\n"
     ]
    }
   ],
   "source": [
    "samples = 20000 # Для повышения точности число выборок должно быть большим. \n",
    "samples_posterior_A = posterior_A.rvs(samples) \n",
    "samples_posterior_B = posterior_B.rvs(samples)\n",
    "print ((samples_posterior_A > samples_posterior_B).mean())"
   ]
  },
  {
   "cell_type": "markdown",
   "metadata": {},
   "source": [
    "Как видим, вероятность того, что конверсия сайта А лучше, чем сайта В, равна 31%"
   ]
  },
  {
   "cell_type": "markdown",
   "metadata": {},
   "source": [
    "# Добавляем линейную функцию потерь"
   ]
  },
  {
   "cell_type": "markdown",
   "metadata": {},
   "source": [
    "Пусть пользователям демонстрируются два различных варианта страницы с расценками и мы хотели бы оценить ожидаемую выручку (expected revenue) из расчета на один показ."
   ]
  },
  {
   "cell_type": "code",
   "execution_count": 37,
   "metadata": {},
   "outputs": [],
   "source": [
    "from numpy.random import dirichlet\n",
    "\n",
    "N_A = 1000\n",
    "N_A_79 = 10\n",
    "N_A_49 = 46\n",
    "N_A_25 = 80\n",
    "N_A_0 = N_A - (N_A_79 + N_A_49 + N_A_49)\n",
    "observations_A = np.array([N_A_79, N_A_49, N_A_25, N_A_0])\n",
    "\n",
    "N_B = 2000\n",
    "N_В_79 = 45\n",
    "N_B_49 = 84\n",
    "N_В_25 = 200\n",
    "N_B_0 = N_B - (N_В_79 + N_B_49 + N_В_25)\n",
    "observations_B = np.array([N_В_79, N_B_49, N_В_25, N_B_0])\n",
    "\n",
    "def expected_revenue(P):\n",
    "    return 79*P[:,0] + 49*P[:,1] + 25*P[:,2] + 0*P[:,3]\n",
    "\n",
    "prior_parameters = np.array([1,1,1,1])\n",
    "\n",
    "posterior_samples_A = dirichlet(prior_parameters + observations_A, size=10000)\n",
    "posterior_samples_B = dirichlet(prior_parameters + observations_B, size=10000)\n",
    "posterior_expected_revenue_A = expected_revenue(posterior_samples_A)"
   ]
  },
  {
   "cell_type": "code",
   "execution_count": 38,
   "metadata": {},
   "outputs": [
    {
     "data": {
      "image/png": "[encoded data removed]",
      "text/plain": [
       "<Figure size 432x288 with 1 Axes>"
      ]
     },
     "metadata": {
      "needs_background": "light"
     },
     "output_type": "display_data"
    }
   ],
   "source": [
    "posterior_expected_revenue_B = expected_revenue(posterior_samples_B)\n",
    "plt.hist(posterior_expected_revenue_A, histtype='stepfilled',label=u'ожидаемая выручка сайта A', bins=50)\n",
    "plt.hist(posterior_expected_revenue_B, histtype='stepfilled',label='Tожидаемая выручка сайта В', bins=50, alpha=0.8)\n",
    "plt.xlabel(u'Значение')\n",
    "plt.ylabel(u'Плотность')\n",
    "plt.title(u\"Апостериорные распределения ожидаемой выручки для страниц $А$ и $В$\")\n",
    "plt.legend();"
   ]
  },
  {
   "cell_type": "code",
   "execution_count": 39,
   "metadata": {},
   "outputs": [
    {
     "name": "stdout",
     "output_type": "stream",
     "text": [
      "Вероятность того, что выручка страницы В больше, чем страницы A: 0.993\n"
     ]
    }
   ],
   "source": [
    "p = (posterior_expected_revenue_B > posterior_expected_revenue_A).mean()\n",
    "print (\"Вероятность того, что выручка страницы В больше, чем страницы A: %.3f\"%p)"
   ]
  },
  {
   "cell_type": "markdown",
   "metadata": {},
   "source": [
    "Значение 99% достаточно велико, чтобы быть статистически значимым, так что имеет смысл выбрать для промышленной эксплуатации страницу В."
   ]
  },
  {
   "cell_type": "code",
   "execution_count": null,
   "metadata": {},
   "outputs": [],
   "source": []
  }
 ],
 "metadata": {
  "kernelspec": {
   "display_name": "Python 3",
   "language": "python",
   "name": "python3"
  },
  "language_info": {
   "codemirror_mode": {
    "name": "ipython",
    "version": 3
   },
   "file_extension": ".py",
   "mimetype": "text/x-python",
   "name": "python",
   "nbconvert_exporter": "python",
   "pygments_lexer": "ipython3",
   "version": "3.7.3"
  }
 },
 "nbformat": 4,
 "nbformat_minor": 2
}
